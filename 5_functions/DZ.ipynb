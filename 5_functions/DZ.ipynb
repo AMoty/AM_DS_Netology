{
 "cells": [
  {
   "cell_type": "code",
   "execution_count": 1,
   "metadata": {},
   "outputs": [],
   "source": [
    "documents = [\n",
    " {'type': 'passport', 'number': '2207 876234', 'name': 'Василий Гупкин'},\n",
    " {'type': 'invoice', 'number': '11-2', 'name': 'Геннадий Покемонов'},\n",
    " {'type': 'insurance', 'number': '10006', 'name': 'Аристарх Павлов'}\n",
    "]\n",
    "directories = {\n",
    " '1': ['2207 876234', '11-2'],\n",
    " '2': ['10006'],\n",
    " '3': []\n",
    "}"
   ]
  },
  {
   "cell_type": "code",
   "execution_count": 2,
   "metadata": {},
   "outputs": [],
   "source": [
    "def check_doc(number, what):\n",
    "    nodoc = 1\n",
    "    if what == \"owner\":\n",
    "        for doc in documents:\n",
    "            if doc['number']==number:\n",
    "                print(f\"Владелец документа: {doc['name']}\")\n",
    "                nodoc = 0\n",
    "    elif what == \"shelf\":\n",
    "        for key, sh in directories.items():\n",
    "            if number in sh:\n",
    "                print(f\"Документ хранится на полке: {key}\")\n",
    "                nodoc = 0\n",
    "    if nodoc == 1:\n",
    "        print(\"Документ не найден в базе\")\n",
    "        print()"
   ]
  },
  {
   "cell_type": "code",
   "execution_count": 3,
   "metadata": {},
   "outputs": [],
   "source": [
    "def audit():\n",
    "    for d in documents:\n",
    "        sh = [x for x, o in directories.items() if d['number'] in o]\n",
    "        print(f\"№: {d['number']}, тип: {d['type']}, владелец: {d['name']}, полка хранения: {sh[0]}\")\n",
    "    print()"
   ]
  },
  {
   "cell_type": "code",
   "execution_count": 4,
   "metadata": {},
   "outputs": [],
   "source": [
    "def shelf_edit(sh, act):\n",
    "    if act == 'add':\n",
    "        if sh in directories.keys():\n",
    "            print(\"Такая полка уже существует.\", end = ' ')\n",
    "        else:\n",
    "            directories[sh] = []\n",
    "            print(\"Полка добавлена.\", end = ' ')\n",
    "    elif act == 'del':\n",
    "        if sh not in directories.keys():\n",
    "            print(\"Такой полки не существует.\", end = ' ')\n",
    "        else:\n",
    "            if len(directories[sh]) != 0:\n",
    "                print(\"На полке есть документы, удалите их перед удалением полки.\", end = ' ')\n",
    "            else:\n",
    "                del directories[sh]\n",
    "                print(\"Полка удалена\", end = ' ')\n",
    "    print(\"Текущий перечень полок:\", end = ' ')\n",
    "    print(*directories.keys(), sep = ', ', end = '.' )\n",
    "    print()"
   ]
  },
  {
   "cell_type": "code",
   "execution_count": 5,
   "metadata": {},
   "outputs": [],
   "source": [
    "def doc_edit(doc_num, act):\n",
    "    nodoc = 0\n",
    "    if act == 'add':\n",
    "        tip = input(\"Введите тип документа: \")\n",
    "        owner = input(\"Введите владельца документа:\")\n",
    "        shelf = input(\"Введите полку для хранения:\")\n",
    "        if shelf not in directories.keys():\n",
    "            print(\"Такой полки не существует. Добавьте полку командой ads.\")\n",
    "        else:\n",
    "            directories[shelf] += [doc_num]\n",
    "            documents.append({'type': tip, 'number': doc_num, 'name': owner})\n",
    "            print(\"Документ добавлен. \", end = '')\n",
    "    if act == 'del':\n",
    "         for doc_ind in range(len(documents)):\n",
    "            if documents[doc_ind]['number'] == doc_num:\n",
    "                for kk, s in directories.items():\n",
    "                    if doc_num in s:\n",
    "                        directories[kk].remove(doc_num)\n",
    "                del documents[doc_ind]\n",
    "                print(\"Документ удален. \")\n",
    "            else:\n",
    "                nodoc += 1\n",
    "    if nodoc == len(documents):\n",
    "        print(\"Документ не найден в базе.\")\n",
    "    print(\"Текущий список документов:\")\n",
    "    audit()\n",
    "    print()   "
   ]
  },
  {
   "cell_type": "code",
   "execution_count": 9,
   "metadata": {},
   "outputs": [
    {
     "name": "stdout",
     "output_type": "stream",
     "text": [
      "Введите команду: q\n"
     ]
    }
   ],
   "source": [
    "n = input(\"Введите команду: \")\n",
    "while n != 'q':    \n",
    "    if n == 'p':\n",
    "        num = input(\"Введите номер документа: \")\n",
    "        check_doc(num, what=\"owner\")\n",
    "    elif n == 's':\n",
    "        num = input(\"Введите номер документа: \")\n",
    "        check_doc(num, what=\"shelf\")\n",
    "    elif n == 'l':\n",
    "        audit()\n",
    "    elif n == 'ads':\n",
    "        shelf_num = input(\"Введите номер полки: \")\n",
    "        shelf_edit(shelf_num, act = 'add')\n",
    "    elif n == 'ds':\n",
    "        shelf_num = input(\"Введите номер полки: \")\n",
    "        shelf_edit(shelf_num, act = 'del')\n",
    "    elif n == 'ad':\n",
    "        num = input(\"Введите номер документа: \")\n",
    "        doc_edit(num, act='add')\n",
    "    elif n == 'd':\n",
    "        num = input(\"Введите номер документа: \")\n",
    "        doc_edit(num, act='del')\n",
    "    n = input(\"Введите команду: \")"
   ]
  },
  {
   "cell_type": "code",
   "execution_count": 10,
   "metadata": {},
   "outputs": [
    {
     "data": {
      "text/plain": [
       "{'1': ['2207 876234', '11-2'], '2': ['10006'], '10': []}"
      ]
     },
     "execution_count": 10,
     "metadata": {},
     "output_type": "execute_result"
    }
   ],
   "source": [
    "directories"
   ]
  },
  {
   "cell_type": "code",
   "execution_count": 11,
   "metadata": {},
   "outputs": [
    {
     "data": {
      "text/plain": [
       "[{'type': 'passport', 'number': '2207 876234', 'name': 'Василий Гупкин'},\n",
       " {'type': 'invoice', 'number': '11-2', 'name': 'Геннадий Покемонов'},\n",
       " {'type': 'insurance', 'number': '10006', 'name': 'Аристарх Павлов'}]"
      ]
     },
     "execution_count": 11,
     "metadata": {},
     "output_type": "execute_result"
    }
   ],
   "source": [
    "documents"
   ]
  },
  {
   "cell_type": "code",
   "execution_count": null,
   "metadata": {},
   "outputs": [],
   "source": []
  }
 ],
 "metadata": {
  "kernelspec": {
   "display_name": "Python 3",
   "language": "python",
   "name": "python3"
  },
  "language_info": {
   "codemirror_mode": {
    "name": "ipython",
    "version": 3
   },
   "file_extension": ".py",
   "mimetype": "text/x-python",
   "name": "python",
   "nbconvert_exporter": "python",
   "pygments_lexer": "ipython3",
   "version": "3.7.7"
  }
 },
 "nbformat": 4,
 "nbformat_minor": 4
}
