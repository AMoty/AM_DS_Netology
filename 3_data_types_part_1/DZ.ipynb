{
 "cells": [
  {
   "cell_type": "markdown",
   "metadata": {},
   "source": [
    "# Задание 1"
   ]
  },
  {
   "cell_type": "code",
   "execution_count": null,
   "metadata": {},
   "outputs": [],
   "source": [
    "n = input()\n",
    "position = len(n)//2 - 1\n",
    "if len(n) % 2 == 0:\n",
    "       print(n[position:position + 2])\n",
    "else:\n",
    "    print(n[position + 1])"
   ]
  },
  {
   "cell_type": "markdown",
   "metadata": {},
   "source": [
    "# Задание 2"
   ]
  },
  {
   "cell_type": "code",
   "execution_count": 1,
   "metadata": {},
   "outputs": [
    {
     "name": "stdout",
     "output_type": "stream",
     "text": [
      "Введите число: 4\n",
      "Введите число: 5\n",
      "Введите число: 2\n",
      "Введите число: 3\n",
      "Введите число: 4\n",
      "Введите число: 0\n",
      "Результат: \n",
      "18\n"
     ]
    }
   ],
   "source": [
    "n = int(input(\"Введите число: \"))\n",
    "c = n\n",
    "if n == 0:\n",
    "    print(\"Результат:\", 0, sep = '\\n')\n",
    "else:\n",
    "    while n != 0:\n",
    "        n = int(input(\"Введите число: \"))\n",
    "        c += n\n",
    "    print(\"Результат: \", c, sep = '\\n')"
   ]
  },
  {
   "cell_type": "markdown",
   "metadata": {},
   "source": [
    "# Задание 3"
   ]
  },
  {
   "cell_type": "code",
   "execution_count": 24,
   "metadata": {},
   "outputs": [
    {
     "name": "stdout",
     "output_type": "stream",
     "text": [
      "Идеальные пары:\n",
      "Alex и Emma\n",
      "Arthur и Kate\n",
      "John и Kira\n",
      "Peter и Liza\n",
      "Richard и Trisha\n"
     ]
    }
   ],
   "source": [
    "boys = ['Peter', 'Alex', 'John', 'Arthur', 'Richard']\n",
    "girls = ['Kate', 'Liza', 'Kira', 'Emma', 'Trisha']\n",
    "if len(boys) != len(girls):\n",
    "    print(\"Внимание, кто-то может остаться без пары!\")\n",
    "else:\n",
    "    print(\"Идеальные пары:\")\n",
    "    boys.sort()\n",
    "    girls.sort()\n",
    "    couple = zip(boys,girls)\n",
    "    for boys,girls in couple:\n",
    "        print(boys, \"и\", girls)"
   ]
  },
  {
   "cell_type": "markdown",
   "metadata": {},
   "source": [
    "# Задание 4"
   ]
  },
  {
   "cell_type": "code",
   "execution_count": 51,
   "metadata": {},
   "outputs": [
    {
     "name": "stdout",
     "output_type": "stream",
     "text": [
      "Средняя температура в странах:\n",
      "Thailand - 23.9 C\n",
      "Germany - 13.8 C\n",
      "Russia - 3.7 C\n",
      "Poland - 12.0 C\n"
     ]
    }
   ],
   "source": [
    "countries_temperature = [\n",
    "    ['Thailand', [75.2, 77, 78.8, 73.4, 68, 75.2, 77]],\n",
    "    ['Germany', [57.2, 55.4, 59, 59, 53.6]],\n",
    "    ['Russia', [35.6, 37.4, 39.2, 41, 42.8, 39.2, 35.6]],\n",
    "    ['Poland', [50, 50, 53.6, 57.2, 55.4, 55.4]]\n",
    "]\n",
    "print(\"Средняя температура в странах:\")\n",
    "for value in countries_temperature:\n",
    "    aver = (sum(value[1]) / len(value[1]) - 32) / 1.8\n",
    "    print(f\"{value[0]} - {aver:.1f} C\")"
   ]
  },
  {
   "cell_type": "markdown",
   "metadata": {},
   "source": [
    "# Задание 5"
   ]
  },
  {
   "cell_type": "code",
   "execution_count": 84,
   "metadata": {},
   "outputs": [
    {
     "name": "stdout",
     "output_type": "stream",
     "text": [
      "Среднее количество просмотров на уникального пользователя: 23.25\n"
     ]
    }
   ],
   "source": [
    "stream = [\n",
    "    '2018-01-01,user1,3',\n",
    "    '2018-01-07,user1,4',\n",
    "    '2018-03-29,user1,1',\n",
    "    '2018-04-04,user1,13',\n",
    "    '2018-01-05,user2,7',\n",
    "    '2018-06-14,user3,4',\n",
    "    '2018-07-02,user3,10',\n",
    "    '2018-03-21,user4,19',\n",
    "    '2018-03-22,user4,4',\n",
    "    '2018-04-22,user4,8',\n",
    "    '2018-05-03,user4,9',\n",
    "    '2018-05-11,user4,11',\n",
    "]\n",
    "views, users = 0, []\n",
    "for i in stream:\n",
    "    i = i.split(',')\n",
    "    views += int(i[-1])\n",
    "    if i[1] not in users:\n",
    "        users.append(i[1])\n",
    "print(f\"Среднее количество просмотров на уникального пользователя: {views / len(users):.2f}\")"
   ]
  },
  {
   "cell_type": "markdown",
   "metadata": {},
   "source": [
    "# Задание 6"
   ]
  },
  {
   "cell_type": "code",
   "execution_count": 92,
   "metadata": {},
   "outputs": [
    {
     "name": "stdout",
     "output_type": "stream",
     "text": [
      "Введите числа: 3 4 5 62 3\n",
      "3\n"
     ]
    }
   ],
   "source": [
    "n, li = input(\"Введите числа: \").split(), []\n",
    "for i in n:\n",
    "    if n.count(i) > 1:\n",
    "        if i not in li:\n",
    "            li.append(i)\n",
    "print(*li)"
   ]
  },
  {
   "cell_type": "code",
   "execution_count": null,
   "metadata": {},
   "outputs": [],
   "source": []
  }
 ],
 "metadata": {
  "kernelspec": {
   "display_name": "Python 3",
   "language": "python",
   "name": "python3"
  },
  "language_info": {
   "codemirror_mode": {
    "name": "ipython",
    "version": 3
   },
   "file_extension": ".py",
   "mimetype": "text/x-python",
   "name": "python",
   "nbconvert_exporter": "python",
   "pygments_lexer": "ipython3",
   "version": "3.7.7"
  }
 },
 "nbformat": 4,
 "nbformat_minor": 4
}
