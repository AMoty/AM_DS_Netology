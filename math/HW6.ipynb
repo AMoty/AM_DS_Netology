{
 "cells": [
  {
   "cell_type": "code",
   "execution_count": 1,
   "id": "advisory-velvet",
   "metadata": {},
   "outputs": [],
   "source": [
    "#importing libraries\n",
    "import numpy as np\n",
    "from matplotlib import pyplot as plt"
   ]
  },
  {
   "cell_type": "code",
   "execution_count": 2,
   "id": "bibliographic-ocean",
   "metadata": {},
   "outputs": [],
   "source": [
    "from pylab import rcParams\n",
    "rcParams['figure.figsize'] = 14,9"
   ]
  },
  {
   "cell_type": "code",
   "execution_count": 3,
   "id": "prompt-mileage",
   "metadata": {},
   "outputs": [],
   "source": [
    "def ackley(x):\n",
    "  #returns the point value of the given coordinate\n",
    "    arg1 = -0.2*np.sqrt(0.5*(x[0]**2 + x[1]**2))\n",
    "    arg2 = 0.5*(np.cos(2*np.pi*x[0]) + np.cos(2*np.pi*x[1]))\n",
    "    return -20 * np.exp(arg1) - np.exp(arg2) + 20 + np.e"
   ]
  },
  {
   "cell_type": "code",
   "execution_count": 4,
   "id": "intelligent-payroll",
   "metadata": {},
   "outputs": [
    {
     "data": {
      "text/plain": [
       "4.440892098500626e-16"
      ]
     },
     "execution_count": 4,
     "metadata": {},
     "output_type": "execute_result"
    }
   ],
   "source": [
    "ackley((0,0))"
   ]
  },
  {
   "cell_type": "code",
   "execution_count": 5,
   "id": "printable-retreat",
   "metadata": {},
   "outputs": [],
   "source": [
    "bounds = [(-5,5), (-5, 5)]"
   ]
  },
  {
   "cell_type": "code",
   "execution_count": 6,
   "id": "noticed-respondent",
   "metadata": {},
   "outputs": [],
   "source": [
    "from scipy.optimize import differential_evolution"
   ]
  },
  {
   "cell_type": "code",
   "execution_count": 7,
   "id": "fourth-mixture",
   "metadata": {},
   "outputs": [],
   "source": [
    "res = differential_evolution (ackley, bounds, seed = 42, strategy='best1bin', popsize=150)"
   ]
  },
  {
   "cell_type": "code",
   "execution_count": 8,
   "id": "pressed-cache",
   "metadata": {},
   "outputs": [
    {
     "data": {
      "text/plain": [
       "     fun: 4.440892098500626e-16\n",
       " message: 'Optimization terminated successfully.'\n",
       "    nfev: 30063\n",
       "     nit: 99\n",
       " success: True\n",
       "       x: array([0., 0.])"
      ]
     },
     "execution_count": 8,
     "metadata": {},
     "output_type": "execute_result"
    }
   ],
   "source": [
    "res"
   ]
  },
  {
   "cell_type": "code",
   "execution_count": 9,
   "id": "sexual-banner",
   "metadata": {},
   "outputs": [],
   "source": [
    "# Посмотрим как стратегии меняют результат. Допущение: там, где функция не была выполнена успешно, будем ставить 0.\n",
    "stra = ['best1bin','best1exp', 'rand1exp', 'randtobest1exp', 'currenttobest1exp', 'best2exp', \n",
    "         'rand2exp', 'randtobest1bin', 'currenttobest1bin', 'best2bin', 'rand2bin', 'rand1bin']\n",
    "def res_creation_stra():\n",
    "    nfev = []\n",
    "    for i in stra:\n",
    "        res = differential_evolution (ackley, bounds, seed = 42, strategy=i)\n",
    "        if res.success == True:\n",
    "            nfev.append(res.nit)\n",
    "        else:\n",
    "            nfev.append(0)\n",
    "    return nfev"
   ]
  },
  {
   "cell_type": "code",
   "execution_count": 10,
   "id": "selected-conspiracy",
   "metadata": {},
   "outputs": [],
   "source": [
    "y_vals_stra = res_creation_stra()"
   ]
  },
  {
   "cell_type": "code",
   "execution_count": 11,
   "id": "suburban-national",
   "metadata": {},
   "outputs": [
    {
     "data": {
      "text/plain": [
       "[96, 143, 251, 164, 0, 249, 346, 101, 0, 162, 255, 156]"
      ]
     },
     "execution_count": 11,
     "metadata": {},
     "output_type": "execute_result"
    }
   ],
   "source": [
    "y_vals_stra"
   ]
  },
  {
   "cell_type": "code",
   "execution_count": 13,
   "id": "union-marketing",
   "metadata": {},
   "outputs": [
    {
     "data": {
      "image/png": "[encoded data removed]",
      "text/plain": [
       "<Figure size 1008x648 with 1 Axes>"
      ]
     },
     "metadata": {
      "needs_background": "light"
     },
     "output_type": "display_data"
    }
   ],
   "source": [
    "plt.bar(stra,y_vals_stra)\n",
    "plt.xlabel('Strategies')\n",
    "plt.ylabel('Total evaluation')\n",
    "plt.xticks(rotation = 45)\n",
    "plt.show()\n",
    "# лучшая стратегия при прочих равных это best1bin"
   ]
  },
  {
   "cell_type": "code",
   "execution_count": 16,
   "id": "threatened-polls",
   "metadata": {},
   "outputs": [],
   "source": [
    "# Посмотрим как popsize меняeт результат. Допущение: там, где функция не была выполнена успешно, будем ставить 0.\n",
    "pop = list(range(1, 150, 15))\n",
    "def res_creation_pop():\n",
    "    nfev = []\n",
    "    for i in pop:\n",
    "        res = differential_evolution (ackley, bounds, seed = 42, popsize=i)\n",
    "        if res.success == True:\n",
    "            nfev.append(res.nit)\n",
    "        else:\n",
    "            nfev.append(0)\n",
    "    return nfev"
   ]
  },
  {
   "cell_type": "code",
   "execution_count": 17,
   "id": "forward-madagascar",
   "metadata": {},
   "outputs": [],
   "source": [
    "y_vals_pops = res_creation_pop()"
   ]
  },
  {
   "cell_type": "code",
   "execution_count": 18,
   "id": "surprised-florida",
   "metadata": {},
   "outputs": [
    {
     "name": "stdout",
     "output_type": "stream",
     "text": [
      "[28, 104, 95, 104, 95, 98, 96, 103, 99, 99]\n",
      "[1, 16, 31, 46, 61, 76, 91, 106, 121, 136]\n"
     ]
    }
   ],
   "source": [
    "print(y_vals_pops)\n",
    "print(pop)"
   ]
  },
  {
   "cell_type": "code",
   "execution_count": 19,
   "id": "adjusted-heart",
   "metadata": {},
   "outputs": [
    {
     "data": {
      "image/png": "[encoded data removed]",
      "text/plain": [
       "<Figure size 1008x648 with 1 Axes>"
      ]
     },
     "metadata": {
      "needs_background": "light"
     },
     "output_type": "display_data"
    }
   ],
   "source": [
    "plt.plot(list(pop),y_vals_pops)\n",
    "plt.xlabel('Popsize')\n",
    "plt.ylabel('Total evaluation')\n",
    "plt.show()\n",
    "# "
   ]
  },
  {
   "cell_type": "code",
   "execution_count": null,
   "id": "floral-soccer",
   "metadata": {},
   "outputs": [],
   "source": []
  }
 ],
 "metadata": {
  "kernelspec": {
   "display_name": "Python 3",
   "language": "python",
   "name": "python3"
  },
  "language_info": {
   "codemirror_mode": {
    "name": "ipython",
    "version": 3
   },
   "file_extension": ".py",
   "mimetype": "text/x-python",
   "name": "python",
   "nbconvert_exporter": "python",
   "pygments_lexer": "ipython3",
   "version": "3.7.7"
  }
 },
 "nbformat": 4,
 "nbformat_minor": 5
}
