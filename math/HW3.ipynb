{
 "cells": [
  {
   "cell_type": "code",
   "execution_count": 1,
   "id": "ordinary-heritage",
   "metadata": {},
   "outputs": [],
   "source": [
    "import numpy as np"
   ]
  },
  {
   "cell_type": "markdown",
   "id": "permanent-lending",
   "metadata": {},
   "source": [
    "## Придумайте матрицы, которые обладают следующими свойствами:\n",
    "####  a) Диагональная, ортогональная, но не единичная(!)"
   ]
  },
  {
   "cell_type": "code",
   "execution_count": 80,
   "id": "regional-sherman",
   "metadata": {},
   "outputs": [
    {
     "name": "stdout",
     "output_type": "stream",
     "text": [
      "[[ 1  0]\n",
      " [ 0 -1]]\n"
     ]
    }
   ],
   "source": [
    "A = np.array([[1, 0],[0, -1]])\n",
    "print(A)"
   ]
  },
  {
   "cell_type": "code",
   "execution_count": 83,
   "id": "intermediate-palace",
   "metadata": {},
   "outputs": [
    {
     "data": {
      "text/plain": [
       "array([[1, 0],\n",
       "       [0, 1]])"
      ]
     },
     "execution_count": 83,
     "metadata": {},
     "output_type": "execute_result"
    }
   ],
   "source": [
    "A.dot(A.T)"
   ]
  },
  {
   "cell_type": "markdown",
   "id": "pressed-precipitation",
   "metadata": {},
   "source": [
    "#### b) Верхнетреугольная, ортогональная"
   ]
  },
  {
   "cell_type": "markdown",
   "id": "ruled-breath",
   "metadata": {},
   "source": [
    "#### c) Нижнетреугольная, ортогональная"
   ]
  },
  {
   "cell_type": "markdown",
   "id": "failing-laugh",
   "metadata": {},
   "source": [
    "Не понимаю как матрицы этих типов могут быть ортогональны, если пусть A = np.array([[a, b], [c, d]]), то есть a*c + b*d = 0. В задаче b) с = 0, а в задаче с) b = 0. То есть у нас в обоих примерах должен получиться ноль при перемножении двух чисел, оба из которых нулями не являются. Но это же невозможн?!"
   ]
  },
  {
   "cell_type": "code",
   "execution_count": null,
   "id": "informational-mexican",
   "metadata": {},
   "outputs": [],
   "source": []
  },
  {
   "cell_type": "code",
   "execution_count": null,
   "id": "instrumental-addition",
   "metadata": {},
   "outputs": [],
   "source": []
  },
  {
   "cell_type": "markdown",
   "id": "inclusive-orbit",
   "metadata": {},
   "source": [
    "#### d) Матрица, у которой определитель = 1, и все элементы не равны 0"
   ]
  },
  {
   "cell_type": "code",
   "execution_count": 67,
   "id": "corresponding-phenomenon",
   "metadata": {},
   "outputs": [
    {
     "name": "stdout",
     "output_type": "stream",
     "text": [
      "[[5 7]\n",
      " [2 3]]\n"
     ]
    }
   ],
   "source": [
    "D = np.array([[5, 7],[2, 3]])\n",
    "print(D)"
   ]
  },
  {
   "cell_type": "code",
   "execution_count": 69,
   "id": "collectible-salmon",
   "metadata": {},
   "outputs": [
    {
     "name": "stdout",
     "output_type": "stream",
     "text": [
      "0.9999999999999991\n"
     ]
    }
   ],
   "source": [
    "d = np.linalg.det(D)\n",
    "print(d)\n",
    "# теоретически 15 - 14 = 1 :))))))"
   ]
  },
  {
   "cell_type": "markdown",
   "id": "stainless-communication",
   "metadata": {},
   "source": [
    "#### Найдите собственные значения и собственные вектора матриц:"
   ]
  },
  {
   "cell_type": "code",
   "execution_count": 71,
   "id": "civil-genome",
   "metadata": {},
   "outputs": [
    {
     "name": "stdout",
     "output_type": "stream",
     "text": [
      "[[2 2]\n",
      " [1 3]]\n"
     ]
    }
   ],
   "source": [
    "m = np.array([[2, 2],\n",
    "              [1, 3]])\n",
    "print(m)"
   ]
  },
  {
   "cell_type": "code",
   "execution_count": 73,
   "id": "surface-briefing",
   "metadata": {},
   "outputs": [],
   "source": [
    "w,v = np.linalg.eig(m)"
   ]
  },
  {
   "cell_type": "code",
   "execution_count": 74,
   "id": "stable-bumper",
   "metadata": {},
   "outputs": [
    {
     "data": {
      "text/plain": [
       "array([1., 4.])"
      ]
     },
     "execution_count": 74,
     "metadata": {},
     "output_type": "execute_result"
    }
   ],
   "source": [
    "# Собственные числа матрицы m\n",
    "w"
   ]
  },
  {
   "cell_type": "code",
   "execution_count": 76,
   "id": "latest-croatia",
   "metadata": {},
   "outputs": [
    {
     "data": {
      "text/plain": [
       "array([[-0.89442719, -0.70710678],\n",
       "       [ 0.4472136 , -0.70710678]])"
      ]
     },
     "execution_count": 76,
     "metadata": {},
     "output_type": "execute_result"
    }
   ],
   "source": [
    "# Собственные векторы матрицы m\n",
    "v"
   ]
  },
  {
   "cell_type": "code",
   "execution_count": null,
   "id": "known-resistance",
   "metadata": {},
   "outputs": [],
   "source": []
  }
 ],
 "metadata": {
  "kernelspec": {
   "display_name": "Python 3",
   "language": "python",
   "name": "python3"
  },
  "language_info": {
   "codemirror_mode": {
    "name": "ipython",
    "version": 3
   },
   "file_extension": ".py",
   "mimetype": "text/x-python",
   "name": "python",
   "nbconvert_exporter": "python",
   "pygments_lexer": "ipython3",
   "version": "3.7.7"
  }
 },
 "nbformat": 4,
 "nbformat_minor": 5
}
