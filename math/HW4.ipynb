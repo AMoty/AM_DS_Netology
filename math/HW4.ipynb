{
 "cells": [
  {
   "cell_type": "code",
   "execution_count": 4,
   "id": "numerical-turkish",
   "metadata": {},
   "outputs": [],
   "source": [
    "import sympy as sy"
   ]
  },
  {
   "cell_type": "code",
   "execution_count": 71,
   "id": "viral-enclosure",
   "metadata": {},
   "outputs": [],
   "source": [
    "def find_der():\n",
    "    x, y = sy.symbols(\"x y\")\n",
    "    f = x**5 + 4 * sy.sin(2*x) + sy.cos(3*x +3)\n",
    "    df = sy.diff(f, x)\n",
    "    ddf = sy.diff(df, x)\n",
    "    print(df)\n",
    "    print(f\"Первая производная ({df.subs(x, 1)}) принимает значение {df.evalf(subs={x:1}, n = 4)} в точке х = 1\")\n",
    "    print(f\"Вторая производная ({ddf.subs(x, 1)}) принимает значение {ddf.evalf(subs={x:1}, n = 4)} в точке х = 1\")"
   ]
  },
  {
   "cell_type": "code",
   "execution_count": 72,
   "id": "moving-market",
   "metadata": {},
   "outputs": [
    {
     "name": "stdout",
     "output_type": "stream",
     "text": [
      "5*x**4 - 3*sin(3*x + 3) + 8*cos(2*x)\n",
      "Первая производная (8*cos(2) - 3*sin(6) + 5) принимает значение 2.509 в точке х = 1\n",
      "Вторая производная (-16*sin(2) - 9*cos(6) + 20) принимает значение -3.190 в точке х = 1\n"
     ]
    }
   ],
   "source": [
    "find_der()"
   ]
  },
  {
   "cell_type": "code",
   "execution_count": null,
   "id": "spare-salem",
   "metadata": {},
   "outputs": [],
   "source": []
  }
 ],
 "metadata": {
  "kernelspec": {
   "display_name": "Python 3",
   "language": "python",
   "name": "python3"
  },
  "language_info": {
   "codemirror_mode": {
    "name": "ipython",
    "version": 3
   },
   "file_extension": ".py",
   "mimetype": "text/x-python",
   "name": "python",
   "nbconvert_exporter": "python",
   "pygments_lexer": "ipython3",
   "version": "3.7.7"
  }
 },
 "nbformat": 4,
 "nbformat_minor": 5
}
