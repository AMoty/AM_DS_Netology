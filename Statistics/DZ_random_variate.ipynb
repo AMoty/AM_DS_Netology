{
 "cells": [
  {
   "cell_type": "markdown",
   "id": "atomic-sheet",
   "metadata": {},
   "source": [
    "## Exercise 1\n",
    "\n",
    "Смоделировать игру против лотерейного автомата типа “777”. Игрок платит 1 руб., после чего выпадает случайное целое число, равномерно распределенное от 0 до 999. При некоторых значениях числа игрок получает выигрыш (см. справа)\n",
    "\n",
    "Выгодна ли игра игроку?\n",
    "\n",
    "Сколько в среднем приобретает\n",
    "или теряет игрок за одну игру?"
   ]
  },
  {
   "cell_type": "code",
   "execution_count": 1,
   "id": "scheduled-influence",
   "metadata": {},
   "outputs": [],
   "source": [
    "import numpy as np"
   ]
  },
  {
   "cell_type": "code",
   "execution_count": 14,
   "id": "subsequent-marijuana",
   "metadata": {},
   "outputs": [],
   "source": [
    "fee = 1 # стоимость игры\n",
    "attempts = 1000000 # количество игр\n",
    "success = 0 # количество успешных игр\n",
    "loss = fee * attempts # общая сумма потраченная на все игры\n",
    "gain = 0 # общий выигрыш\n",
    "res = np.random.randint(0,1000,attempts) # выпавшие числа\n",
    "#print(res)"
   ]
  },
  {
   "cell_type": "code",
   "execution_count": 15,
   "id": "collectible-inspector",
   "metadata": {},
   "outputs": [],
   "source": [
    "# для каждого выпадения смотрим выигрышное ли оно и на сколько\n",
    "\n",
    "for i in res:\n",
    "    if i == 777:\n",
    "        gain += 200\n",
    "        success +=1\n",
    "    elif i == 999:\n",
    "        gain += 100\n",
    "        success +=1\n",
    "    elif i == 555:\n",
    "        gain +=50\n",
    "        success +=1\n",
    "    elif i == 333:\n",
    "        gain += 15\n",
    "        success +=1\n",
    "    elif i == 111:\n",
    "        gain += 10\n",
    "        success +=1\n",
    "    elif i % 100 == 77:\n",
    "        gain += 5\n",
    "        success +=1\n",
    "    elif i % 10 == 7:\n",
    "        gain += 3\n",
    "        success +=1\n",
    "    elif i % 100 == 0:\n",
    "        gain += 2\n",
    "        success +=1\n",
    "    elif i % 10 == 0 :\n",
    "        gain += 1\n",
    "        success +=1"
   ]
  },
  {
   "cell_type": "code",
   "execution_count": 16,
   "id": "expensive-sacramento",
   "metadata": {},
   "outputs": [
    {
     "name": "stdout",
     "output_type": "stream",
     "text": [
      "-------------------------------------\n",
      "TOTAL\n",
      "-------------------------------------\n",
      "You spent 1000000 RUB and won 791613 RUB\n",
      "You are out of 208387 RUB\n",
      "-------------------------------------\n"
     ]
    }
   ],
   "source": [
    "print(\"-------------------------------------\")\n",
    "print(\"TOTAL\")\n",
    "print(\"-------------------------------------\")\n",
    "print(f\"You spent {loss} RUB and won {gain} RUB\")\n",
    "if loss > gain:\n",
    "    print(f'You are out of {loss - gain} RUB')\n",
    "else:\n",
    "    print(f'Congrats! Your profit is {gain - loss} RUB')\n",
    "print(\"-------------------------------------\")"
   ]
  },
  {
   "cell_type": "code",
   "execution_count": 32,
   "id": "synthetic-pressing",
   "metadata": {},
   "outputs": [
    {
     "name": "stdout",
     "output_type": "stream",
     "text": [
      "-20.84%\n"
     ]
    }
   ],
   "source": [
    "# средние потери\n",
    "sr = gain / attempts - fee\n",
    "print(f\"{sr:.2%}\")"
   ]
  },
  {
   "cell_type": "code",
   "execution_count": 26,
   "id": "played-party",
   "metadata": {},
   "outputs": [
    {
     "name": "stdout",
     "output_type": "stream",
     "text": [
      "Number of successful rounds 203722\n",
      "Number of attempts 1000000\n",
      "Вероятность выигрыша 20.37%\n"
     ]
    }
   ],
   "source": [
    "p_monte_carlo = success / attempts    # Вероятность из моделирования\n",
    "\n",
    "print(\"Number of successful rounds\", success)\n",
    "print(\"Number of attempts\", attempts)\n",
    "print(f\"Вероятность выигрыша {p_monte_carlo:.2%}\")"
   ]
  },
  {
   "cell_type": "code",
   "execution_count": 27,
   "id": "enormous-martial",
   "metadata": {},
   "outputs": [
    {
     "name": "stdout",
     "output_type": "stream",
     "text": [
      "10 90 10 90\n",
      "Число удачных исходов: 205\n",
      "20.50%\n"
     ]
    }
   ],
   "source": [
    "#Теор. вер-ть: количество исходов, приводящих к выигрышу, делим но общее число исходов\n",
    "\n",
    "l1,l2,l3, l4 = [],[],[],[]\n",
    "for i in range(1000):\n",
    "    if i % 100 == 77:\n",
    "        l1.append(i)\n",
    "    elif i % 10 == 7:\n",
    "        l2.append(i)\n",
    "    elif i % 100 == 0:\n",
    "        l3.append(i)\n",
    "    elif i % 10 == 0:\n",
    "        l4.append(i)\n",
    "    else:\n",
    "        continue\n",
    "count = len(l1) + len(l2) + len(l3) + len(l4) + 5\n",
    "print(len(l1), len(l2), len(l3), len(l4))\n",
    "print(\"Число удачных исходов:\", count)\n",
    "p = count / 1000\n",
    "print(f\"{p:.2%}\")"
   ]
  },
  {
   "cell_type": "code",
   "execution_count": 33,
   "id": "stock-rainbow",
   "metadata": {},
   "outputs": [
    {
     "data": {
      "text/plain": [
       "[77, 177, 277, 377, 477, 577, 677, 777, 877, 977]"
      ]
     },
     "execution_count": 33,
     "metadata": {},
     "output_type": "execute_result"
    }
   ],
   "source": [
    "l1"
   ]
  },
  {
   "cell_type": "code",
   "execution_count": 34,
   "id": "approximate-bandwidth",
   "metadata": {},
   "outputs": [
    {
     "data": {
      "text/plain": [
       "[7,\n",
       " 17,\n",
       " 27,\n",
       " 37,\n",
       " 47,\n",
       " 57,\n",
       " 67,\n",
       " 87,\n",
       " 97,\n",
       " 107,\n",
       " 117,\n",
       " 127,\n",
       " 137,\n",
       " 147,\n",
       " 157,\n",
       " 167,\n",
       " 187,\n",
       " 197,\n",
       " 207,\n",
       " 217,\n",
       " 227,\n",
       " 237,\n",
       " 247,\n",
       " 257,\n",
       " 267,\n",
       " 287,\n",
       " 297,\n",
       " 307,\n",
       " 317,\n",
       " 327,\n",
       " 337,\n",
       " 347,\n",
       " 357,\n",
       " 367,\n",
       " 387,\n",
       " 397,\n",
       " 407,\n",
       " 417,\n",
       " 427,\n",
       " 437,\n",
       " 447,\n",
       " 457,\n",
       " 467,\n",
       " 487,\n",
       " 497,\n",
       " 507,\n",
       " 517,\n",
       " 527,\n",
       " 537,\n",
       " 547,\n",
       " 557,\n",
       " 567,\n",
       " 587,\n",
       " 597,\n",
       " 607,\n",
       " 617,\n",
       " 627,\n",
       " 637,\n",
       " 647,\n",
       " 657,\n",
       " 667,\n",
       " 687,\n",
       " 697,\n",
       " 707,\n",
       " 717,\n",
       " 727,\n",
       " 737,\n",
       " 747,\n",
       " 757,\n",
       " 767,\n",
       " 787,\n",
       " 797,\n",
       " 807,\n",
       " 817,\n",
       " 827,\n",
       " 837,\n",
       " 847,\n",
       " 857,\n",
       " 867,\n",
       " 887,\n",
       " 897,\n",
       " 907,\n",
       " 917,\n",
       " 927,\n",
       " 937,\n",
       " 947,\n",
       " 957,\n",
       " 967,\n",
       " 987,\n",
       " 997]"
      ]
     },
     "execution_count": 34,
     "metadata": {},
     "output_type": "execute_result"
    }
   ],
   "source": [
    "l2"
   ]
  },
  {
   "cell_type": "code",
   "execution_count": 35,
   "id": "unlikely-satin",
   "metadata": {},
   "outputs": [
    {
     "data": {
      "text/plain": [
       "[0, 100, 200, 300, 400, 500, 600, 700, 800, 900]"
      ]
     },
     "execution_count": 35,
     "metadata": {},
     "output_type": "execute_result"
    }
   ],
   "source": [
    "l3"
   ]
  },
  {
   "cell_type": "code",
   "execution_count": 36,
   "id": "novel-heavy",
   "metadata": {},
   "outputs": [
    {
     "data": {
      "text/plain": [
       "[10,\n",
       " 20,\n",
       " 30,\n",
       " 40,\n",
       " 50,\n",
       " 60,\n",
       " 70,\n",
       " 80,\n",
       " 90,\n",
       " 110,\n",
       " 120,\n",
       " 130,\n",
       " 140,\n",
       " 150,\n",
       " 160,\n",
       " 170,\n",
       " 180,\n",
       " 190,\n",
       " 210,\n",
       " 220,\n",
       " 230,\n",
       " 240,\n",
       " 250,\n",
       " 260,\n",
       " 270,\n",
       " 280,\n",
       " 290,\n",
       " 310,\n",
       " 320,\n",
       " 330,\n",
       " 340,\n",
       " 350,\n",
       " 360,\n",
       " 370,\n",
       " 380,\n",
       " 390,\n",
       " 410,\n",
       " 420,\n",
       " 430,\n",
       " 440,\n",
       " 450,\n",
       " 460,\n",
       " 470,\n",
       " 480,\n",
       " 490,\n",
       " 510,\n",
       " 520,\n",
       " 530,\n",
       " 540,\n",
       " 550,\n",
       " 560,\n",
       " 570,\n",
       " 580,\n",
       " 590,\n",
       " 610,\n",
       " 620,\n",
       " 630,\n",
       " 640,\n",
       " 650,\n",
       " 660,\n",
       " 670,\n",
       " 680,\n",
       " 690,\n",
       " 710,\n",
       " 720,\n",
       " 730,\n",
       " 740,\n",
       " 750,\n",
       " 760,\n",
       " 770,\n",
       " 780,\n",
       " 790,\n",
       " 810,\n",
       " 820,\n",
       " 830,\n",
       " 840,\n",
       " 850,\n",
       " 860,\n",
       " 870,\n",
       " 880,\n",
       " 890,\n",
       " 910,\n",
       " 920,\n",
       " 930,\n",
       " 940,\n",
       " 950,\n",
       " 960,\n",
       " 970,\n",
       " 980,\n",
       " 990]"
      ]
     },
     "execution_count": 36,
     "metadata": {},
     "output_type": "execute_result"
    }
   ],
   "source": [
    "l4"
   ]
  },
  {
   "cell_type": "code",
   "execution_count": 28,
   "id": "internal-separation",
   "metadata": {},
   "outputs": [],
   "source": [
    "# среднее теоретическое значение выигрыша/проигрыша\n",
    "li = []\n",
    "for i in range(1000):\n",
    "    if i == 777:\n",
    "        li.append(1/1000 * 200)\n",
    "    elif i == 999:\n",
    "        li.append(1/1000 * 100)\n",
    "    elif i == 555:\n",
    "        li.append(1/1000 * 50)\n",
    "    elif i == 333:\n",
    "        li.append(1/1000 * 15)\n",
    "    elif i == 111:\n",
    "        li.append(1/1000 * 10)\n",
    "    elif i % 100 == 77 and i != 77:\n",
    "        li.append(1/1000 * 5)\n",
    "    elif i % 10 == 7 and i > 99:\n",
    "        li.append(1/1000 * 3)\n",
    "    elif i % 100 == 0 and i > 99:\n",
    "        li.append(1/1000 * 2)\n",
    "    elif i % 10 == 0 and i > 99:\n",
    "        li.append(1/1000 * 1)\n",
    "    else:\n",
    "        li.append(1/1000 * -1)"
   ]
  },
  {
   "cell_type": "code",
   "execution_count": 29,
   "id": "binding-warrior",
   "metadata": {},
   "outputs": [
    {
     "name": "stdout",
     "output_type": "stream",
     "text": [
      "-0.05900000000000036\n"
     ]
    }
   ],
   "source": [
    "print(f\"{sum(li)}\")"
   ]
  },
  {
   "cell_type": "code",
   "execution_count": null,
   "id": "anticipated-stuart",
   "metadata": {},
   "outputs": [],
   "source": []
  }
 ],
 "metadata": {
  "kernelspec": {
   "display_name": "Python 3",
   "language": "python",
   "name": "python3"
  },
  "language_info": {
   "codemirror_mode": {
    "name": "ipython",
    "version": 3
   },
   "file_extension": ".py",
   "mimetype": "text/x-python",
   "name": "python",
   "nbconvert_exporter": "python",
   "pygments_lexer": "ipython3",
   "version": "3.7.7"
  }
 },
 "nbformat": 4,
 "nbformat_minor": 5
}
