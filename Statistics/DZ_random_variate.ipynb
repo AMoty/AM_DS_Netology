{
 "cells": [
  {
   "cell_type": "markdown",
   "id": "atomic-sheet",
   "metadata": {},
   "source": [
    "## Exercise 1\n",
    "\n",
    "Смоделировать игру против лотерейного автомата типа “777”. Игрок платит 1 руб., после чего выпадает случайное целое число, равномерно распределенное от 0 до 999. При некоторых значениях числа игрок получает выигрыш (см. справа)\n",
    "\n",
    "Выгодна ли игра игроку?\n",
    "\n",
    "Сколько в среднем приобретает\n",
    "или теряет игрок за одну игру?"
   ]
  },
  {
   "cell_type": "code",
   "execution_count": 22,
   "id": "scheduled-influence",
   "metadata": {},
   "outputs": [],
   "source": [
    "import numpy as np"
   ]
  },
  {
   "cell_type": "code",
   "execution_count": 23,
   "id": "subsequent-marijuana",
   "metadata": {},
   "outputs": [],
   "source": [
    "fee = 1 # стоимость игры\n",
    "attempts = 50000 # количество игр\n",
    "success = 0 # количество успешных игр\n",
    "loss = fee * attempts # общая сумма потраченная на все игры\n",
    "gain = 0 # общий выигрыш\n",
    "res = np.random.randint(0,1000,attempts) # выпавшие числа\n",
    "#print(res)"
   ]
  },
  {
   "cell_type": "code",
   "execution_count": 24,
   "id": "collectible-inspector",
   "metadata": {},
   "outputs": [],
   "source": [
    "# для каждого выпадения смотрим выигрышное ли оно и на сколько\n",
    "\n",
    "for i in res:\n",
    "    if i == 777:\n",
    "        gain += 200\n",
    "        success +=1\n",
    "    elif i == 999:\n",
    "        gain += 100\n",
    "        success +=1\n",
    "    elif i == 555:\n",
    "        gain +=50\n",
    "        success +=1\n",
    "    elif i == 333:\n",
    "        gain += 15\n",
    "        success +=1\n",
    "    elif i == 111:\n",
    "        gain += 10\n",
    "        success +=1\n",
    "    elif i % 100 == 77 and i != 77:\n",
    "        gain += 5\n",
    "        success +=1\n",
    "    elif i % 10 == 7 and i > 99:\n",
    "        gain += 3\n",
    "        success +=1\n",
    "    elif i % 100 == 0 and i > 99:\n",
    "        gain += 2\n",
    "        success +=1\n",
    "    elif i % 10 == 0 and i > 99:\n",
    "        gain += 1\n",
    "        success +=1"
   ]
  },
  {
   "cell_type": "code",
   "execution_count": 25,
   "id": "expensive-sacramento",
   "metadata": {},
   "outputs": [
    {
     "name": "stdout",
     "output_type": "stream",
     "text": [
      "-------------------------------------\n",
      "TOTAL\n",
      "-------------------------------------\n",
      "You spent 50000 RUB and won 35476 RUB\n",
      "You are out of 14524 RUB\n",
      "-------------------------------------\n"
     ]
    }
   ],
   "source": [
    "print(\"-------------------------------------\")\n",
    "print(\"TOTAL\")\n",
    "print(\"-------------------------------------\")\n",
    "print(f\"You spent {loss} RUB and won {gain} RUB\")\n",
    "if loss > gain:\n",
    "    print(f'You are out of {loss - gain} RUB')\n",
    "else:\n",
    "    print(f'Congrats! Your profit is {gain - loss} RUB')\n",
    "print(\"-------------------------------------\")"
   ]
  },
  {
   "cell_type": "code",
   "execution_count": 26,
   "id": "played-party",
   "metadata": {},
   "outputs": [
    {
     "name": "stdout",
     "output_type": "stream",
     "text": [
      "Number of successful rounds 9256\n",
      "Number of attempts 50000\n",
      "Вероятность выигрыша 18.51%\n"
     ]
    }
   ],
   "source": [
    "p_monte_carlo = success / attempts    # Вероятность из моделирования\n",
    "\n",
    "print(\"Number of successful rounds\", success)\n",
    "print(\"Number of attempts\", attempts)\n",
    "print(f\"Вероятность выигрыша {p_monte_carlo:.2%}\")"
   ]
  },
  {
   "cell_type": "code",
   "execution_count": 27,
   "id": "enormous-martial",
   "metadata": {},
   "outputs": [
    {
     "name": "stdout",
     "output_type": "stream",
     "text": [
      "9 81 9 81\n",
      "Число удачных исходов: 185\n",
      "18.50%\n"
     ]
    }
   ],
   "source": [
    "#Теор. вер-ть: количество исходов, приводящих к выигрышу, делим но общее число исходов\n",
    "\n",
    "l1,l2,l3, l4 = [],[],[],[]\n",
    "for i in range(1000):\n",
    "    if i % 100 == 77 and i != 77:\n",
    "        l1.append(i)\n",
    "    elif i % 10 == 7 and i > 99:\n",
    "        l2.append(i)\n",
    "    elif i % 100 == 0 and i > 99:\n",
    "        l3.append(i)\n",
    "    elif i % 10 == 0 and i > 99:\n",
    "        l4.append(i)\n",
    "    else:\n",
    "        continue\n",
    "count = len(l1) + len(l2) + len(l3) + len(l4) + 5\n",
    "print(len(l1), len(l2), len(l3), len(l4))\n",
    "print(\"Число удачных исходов:\", count)\n",
    "p = count / 1000\n",
    "print(f\"{p:.2%}\")"
   ]
  },
  {
   "cell_type": "code",
   "execution_count": 28,
   "id": "internal-separation",
   "metadata": {},
   "outputs": [],
   "source": [
    "# среднее теоретическое значение выигрыша/проигрыша\n",
    "li = []\n",
    "for i in range(1000):\n",
    "    if i == 777:\n",
    "        li.append(1/1000 * 200)\n",
    "    elif i == 999:\n",
    "        li.append(1/1000 * 100)\n",
    "    elif i == 555:\n",
    "        li.append(1/1000 * 50)\n",
    "    elif i == 333:\n",
    "        li.append(1/1000 * 15)\n",
    "    elif i == 111:\n",
    "        li.append(1/1000 * 10)\n",
    "    elif i % 100 == 77 and i != 77:\n",
    "        li.append(1/1000 * 5)\n",
    "    elif i % 10 == 7 and i > 99:\n",
    "        li.append(1/1000 * 3)\n",
    "    elif i % 100 == 0 and i > 99:\n",
    "        li.append(1/1000 * 2)\n",
    "    elif i % 10 == 0 and i > 99:\n",
    "        li.append(1/1000 * 1)\n",
    "    else:\n",
    "        li.append(1/1000 * -1)"
   ]
  },
  {
   "cell_type": "code",
   "execution_count": 29,
   "id": "binding-warrior",
   "metadata": {},
   "outputs": [
    {
     "name": "stdout",
     "output_type": "stream",
     "text": [
      "-0.05900000000000036\n"
     ]
    }
   ],
   "source": [
    "print(f\"{sum(li)}\")"
   ]
  },
  {
   "cell_type": "code",
   "execution_count": null,
   "id": "anticipated-stuart",
   "metadata": {},
   "outputs": [],
   "source": []
  }
 ],
 "metadata": {
  "kernelspec": {
   "display_name": "Python 3",
   "language": "python",
   "name": "python3"
  },
  "language_info": {
   "codemirror_mode": {
    "name": "ipython",
    "version": 3
   },
   "file_extension": ".py",
   "mimetype": "text/x-python",
   "name": "python",
   "nbconvert_exporter": "python",
   "pygments_lexer": "ipython3",
   "version": "3.7.7"
  }
 },
 "nbformat": 4,
 "nbformat_minor": 5
}
