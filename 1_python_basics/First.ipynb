{
 "cells": [
  {
   "cell_type": "markdown",
   "metadata": {},
   "source": [
    "# Задание 1"
   ]
  },
  {
   "cell_type": "code",
   "execution_count": null,
   "metadata": {},
   "outputs": [],
   "source": [
    "phrase_1 = str(input('Enter a line 1: ')) \n",
    "phrase_2 = str(input('Enter a line 2: '))"
   ]
  },
  {
   "cell_type": "code",
   "execution_count": null,
   "metadata": {},
   "outputs": [],
   "source": [
    "if phrase_1 > phrase_2:\n",
    "    print (\"Фраза 1 длиннее фразы 2\")\n",
    "elif phrase_1 < phrase_2:\n",
    "    print (\"Фраза 2 длиннее фразы 1\")\n",
    "else:\n",
    "    print (\"Фразы равной длины\")"
   ]
  },
  {
   "cell_type": "markdown",
   "metadata": {},
   "source": [
    "# Задание 2\n"
   ]
  },
  {
   "cell_type": "code",
   "execution_count": null,
   "metadata": {},
   "outputs": [],
   "source": [
    "year = int(input(\"Введите год: \"))"
   ]
  },
  {
   "cell_type": "code",
   "execution_count": null,
   "metadata": {},
   "outputs": [],
   "source": [
    "if (( year % 400 == 0)or (( year % 4 == 0 ) and ( year % 100 != 0))):\n",
    "    print(\"Високосный год\")\n",
    "else:\n",
    "    print(\"Обычный год\")"
   ]
  },
  {
   "cell_type": "markdown",
   "metadata": {},
   "source": [
    "# Задание 3 "
   ]
  },
  {
   "cell_type": "code",
   "execution_count": null,
   "metadata": {},
   "outputs": [],
   "source": [
    "day = int(input(\"Введите день: \"))\n",
    "month = str(input(\"Введите месяц: \"))"
   ]
  },
  {
   "cell_type": "code",
   "execution_count": null,
   "metadata": {},
   "outputs": [],
   "source": [
    "if month == \"Март\":\n",
    "    if (day >=21):\n",
    "        print (\"Ваш знак зодиака: Овен\")\n",
    "    else:\n",
    "        print (\"Ваш знак зодиака: Рыбы\")\n",
    "elif month == \"Апрель\":\n",
    "    if (day >=21):\n",
    "        print (\"Ваш знак зодиака: Телец\")\n",
    "    else:\n",
    "        print (\"Ваш знак зодиака: Овен\")\n",
    "elif month == \"Май\":\n",
    "    if (day >=22):\n",
    "        print (\"Ваш знак зодиака: Близнецы\")\n",
    "    else:\n",
    "        print (\"Ваш знак зодиака: Телец\")\n",
    "elif month == \"Июнь\":\n",
    "    if (day >=22):\n",
    "        print (\"Ваш знак зодиака: Рак\")\n",
    "    else:\n",
    "        print (\"Ваш знак зодиака: Близнецы\")\n",
    "elif month == \"Июль\":\n",
    "    if (day >=23):\n",
    "        print (\"Ваш знак зодиака: Лев\")\n",
    "    else:\n",
    "        print (\"Ваш знак зодиака: Рак\")\n",
    "elif month == \"Август\":\n",
    "    if (day >=24):\n",
    "        print (\"Ваш знак зодиака: Дева\")\n",
    "    else:\n",
    "        print (\"Ваш знак зодиака: Лев\")\n",
    "elif month == \"Сентябрь\":\n",
    "    if (day >=24):\n",
    "        print (\"Ваш знак зодиака: Весы\")\n",
    "    else:\n",
    "        print (\"Ваш знак зодиака: Дева\")\n",
    "elif month == \"Октябрь\":\n",
    "    if (day >=24):\n",
    "        print (\"Ваш знак зодиака: Скорпион\")\n",
    "    else:\n",
    "        print (\"Ваш знак зодиака: Весы\")\n",
    "elif month == \"Ноябрь\":\n",
    "    if (day >=23):\n",
    "        print (\"Ваш знак зодиака: Стрелец\")\n",
    "    else:\n",
    "        print (\"Ваш знак зодиака: Скорпион\")\n",
    "elif month == \"Декабрь\":\n",
    "    if (day >=23):\n",
    "        print (\"Ваш знак зодиака: Козерог\")\n",
    "    else:\n",
    "        print (\"Ваш знак зодиака: Стрелец\")\n",
    "elif month == \"Январь\":\n",
    "    if (day >=21):\n",
    "        print (\"Ваш знак зодиака: Водолей\")\n",
    "    else:\n",
    "        print (\"Ваш знак зодиака: Козерог\")\n",
    "elif month == \"Февраль\":\n",
    "    if (day >=20):\n",
    "        print (\"Ваш знак зодиака: Рыбы\")\n",
    "    else:\n",
    "        print (\"Ваш знак зодиака: Водолей\")\n",
    "else:\n",
    "    print (\"Something went wrong\")"
   ]
  },
  {
   "cell_type": "markdown",
   "metadata": {},
   "source": [
    "# Задание 4"
   ]
  },
  {
   "cell_type": "code",
   "execution_count": null,
   "metadata": {},
   "outputs": [],
   "source": [
    "print(\"Введите размер товара в сантиметрах\")\n",
    "print()\n",
    "width = int(input(\"Ширина: \"))\n",
    "length = int(input(\"Длина: \"))\n",
    "height = int(input(\"Высоты: \"))"
   ]
  },
  {
   "cell_type": "code",
   "execution_count": null,
   "metadata": {},
   "outputs": [],
   "source": [
    "print (width,length,height)\n",
    "if (width < 15 and length < 15 and height<15):\n",
    "    print (\"Коробка №1\")\n",
    "elif ((width>15 and width<50) or (length>15 and length <50) or (height>15 and heigh<50)): \n",
    "    print(\"Коробка №2\")\n",
    "elif (length > 200):\n",
    "    print(\"Упаковка для лыж\")\n",
    "else:\n",
    "    print (\"Стандартная коробка №3\")"
   ]
  },
  {
   "cell_type": "markdown",
   "metadata": {},
   "source": [
    "# Задание 5"
   ]
  },
  {
   "cell_type": "code",
   "execution_count": null,
   "metadata": {},
   "outputs": [],
   "source": [
    "num=int(input())"
   ]
  },
  {
   "cell_type": "code",
   "execution_count": null,
   "metadata": {},
   "outputs": [],
   "source": [
    "x1=num//100000\n",
    "x2=num//10000%10\n",
    "x3=num//1000%10\n",
    "x4=num//100%10\n",
    "x5=num//10%10\n",
    "x6=num%10\n",
    "print(x1,x2,x3,x4,x5,x6)"
   ]
  },
  {
   "cell_type": "code",
   "execution_count": null,
   "metadata": {},
   "outputs": [],
   "source": [
    "if ((x1+x2+x3)==(x4+x5+x6)):\n",
    "    print(\"Счастливый билет\")\n",
    "else:\n",
    "    print(\"Несчастливый билет\")"
   ]
  },
  {
   "cell_type": "markdown",
   "metadata": {},
   "source": [
    "# Задание 6"
   ]
  },
  {
   "cell_type": "code",
   "execution_count": 14,
   "metadata": {},
   "outputs": [
    {
     "name": "stdout",
     "output_type": "stream",
     "text": [
      "Введите число соответствующее фигуре, для которой вы хотите вычислить площадь:\n",
      "\n",
      "*****************\n",
      "Круг            1\n",
      "Tреугольник     2\n",
      "Прямоугольник   3\n",
      "*****************\n",
      "3\n",
      "Введите длину прямоугольникa: 32\n",
      "Введите ширину прямоугольникa: 3\n",
      "Площадь прямоугольника равна: 96\n"
     ]
    }
   ],
   "source": [
    "print(\"Введите число соответствующее фигуре, для которой вы хотите вычислить площадь:\")\n",
    "print()\n",
    "print(\"*****************\")\n",
    "print(\"Круг            1\")\n",
    "print(\"Tреугольник     2\")\n",
    "print(\"Прямоугольник   3\")\n",
    "print(\"*****************\")\n",
    "shape=int(input())\n",
    "if shape==1:\n",
    "    rad=int(input(\"Введите радиус круга: \"))\n",
    "    s_disk=rad**2*3.141592653\n",
    "    print(\"Площадь круга равна: {:.2f}\".format(s_disk))\n",
    "elif shape==2:\n",
    "    a=int(input(\"Введите длину стороны A: \"))\n",
    "    b=int(input(\"Введите длину стороны B: \"))\n",
    "    c=int(input(\"Введите длину стороны C: \"))\n",
    "    pp=(a+b+c)/2\n",
    "    s_tr=(pp*(pp-a)*(pp-b)*(pp-c))**0.5\n",
    "    print(\"Площадь треугольника равна: {:.2f}\".format(s_tr))\n",
    "elif shape==3:\n",
    "    length=int(input(\"Введите длину прямоугольникa: \"))\n",
    "    width=int(input(\"Введите ширину прямоугольникa: \"))\n",
    "    print(\"Площадь прямоугольника равна:\", length*width)\n",
    "else:\n",
    "    print(\"Введенные данные неверны\")\n"
   ]
  },
  {
   "cell_type": "code",
   "execution_count": null,
   "metadata": {},
   "outputs": [],
   "source": []
  },
  {
   "cell_type": "code",
   "execution_count": null,
   "metadata": {},
   "outputs": [],
   "source": []
  }
 ],
 "metadata": {
  "kernelspec": {
   "display_name": "Python 3",
   "language": "python",
   "name": "python3"
  },
  "language_info": {
   "codemirror_mode": {
    "name": "ipython",
    "version": 3
   },
   "file_extension": ".py",
   "mimetype": "text/x-python",
   "name": "python",
   "nbconvert_exporter": "python",
   "pygments_lexer": "ipython3",
   "version": "3.7.7"
  }
 },
 "nbformat": 4,
 "nbformat_minor": 4
}
