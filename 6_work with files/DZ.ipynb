{
 "cells": [
  {
   "cell_type": "markdown",
   "metadata": {},
   "source": [
    "## 1 задание\n",
    "Переведите содержимое файла purchase_log.txt в словарь purchases вида:\n",
    "{‘1840e0b9d4’: ‘Продукты’, …}"
   ]
  },
  {
   "cell_type": "code",
   "execution_count": 20,
   "metadata": {},
   "outputs": [],
   "source": [
    "import json\n",
    "purchases = {}"
   ]
  },
  {
   "cell_type": "code",
   "execution_count": 21,
   "metadata": {},
   "outputs": [],
   "source": [
    "with open('purchase_log.txt') as pu:\n",
    "    for i, line in enumerate(pu):\n",
    "        if i >= 1:\n",
    "            purchases[json.loads(line)['user_id']]=json.loads(line)['category']"
   ]
  },
  {
   "cell_type": "code",
   "execution_count": 36,
   "metadata": {},
   "outputs": [
    {
     "name": "stdout",
     "output_type": "stream",
     "text": [
      "0 ('1840e0b9d4', 'Продукты')\n",
      "1 ('4e4f90fcfb', 'Электроника')\n",
      "2 ('afea8d72fc', 'Электроника')\n",
      "3 ('373a6055fe', 'Бытовая техника')\n",
      "4 ('9b2ab046f3', 'Электроника')\n",
      "5 ('9f39d307c3', 'Электроника')\n",
      "6 ('44edeffc91', 'Продукты')\n",
      "7 ('704474fa2d', 'Продукты')\n",
      "8 ('1de31be403', 'Бытовая техника')\n",
      "9 ('b71f36a5e4', 'Продукты')\n"
     ]
    }
   ],
   "source": [
    "for k ,v in enumerate(purchases.items()):\n",
    "    if k < 10:\n",
    "        print(k, v)"
   ]
  },
  {
   "cell_type": "markdown",
   "metadata": {},
   "source": [
    "## 2 Задание\n",
    "Для каждого user_id в файле visit_log.csv определите третий столбец с категорией покупки (если покупка была, сам файл visit_log.csv изменять не надо). Запишите в файл funnel.csv визиты из файла visit_log.csv, в которых были покупки с указанием категории.\n",
    "Учтите условия на данные:\n",
    "содержимое purchase_log.txt помещается в оперативную память компьютера\n",
    "содержимое visit_log.csv - нет; используйте только построчную обработку этого файла"
   ]
  },
  {
   "cell_type": "code",
   "execution_count": 72,
   "metadata": {},
   "outputs": [],
   "source": [
    "with open('visit_log.csv') as vi:\n",
    "    with open('funnel.csv', 'w') as fu:\n",
    "        for i, line in enumerate(vi):\n",
    "            l = line.strip().split(',')\n",
    "            #print(l, type(line))\n",
    "            if l[0] in purchases.keys():\n",
    "                fu.write(line.strip() + ',' + str(purchases[l[0]]) + '\\n')"
   ]
  },
  {
   "cell_type": "code",
   "execution_count": 73,
   "metadata": {},
   "outputs": [],
   "source": [
    "f = open('funnel.csv')"
   ]
  },
  {
   "cell_type": "code",
   "execution_count": 74,
   "metadata": {},
   "outputs": [
    {
     "data": {
      "text/plain": [
       "'1840e0b9d4,other,Продукты\\n'"
      ]
     },
     "execution_count": 74,
     "metadata": {},
     "output_type": "execute_result"
    }
   ],
   "source": [
    "f.readline()"
   ]
  },
  {
   "cell_type": "code",
   "execution_count": null,
   "metadata": {},
   "outputs": [],
   "source": []
  }
 ],
 "metadata": {
  "kernelspec": {
   "display_name": "Python 3",
   "language": "python",
   "name": "python3"
  },
  "language_info": {
   "codemirror_mode": {
    "name": "ipython",
    "version": 3
   },
   "file_extension": ".py",
   "mimetype": "text/x-python",
   "name": "python",
   "nbconvert_exporter": "python",
   "pygments_lexer": "ipython3",
   "version": "3.7.7"
  }
 },
 "nbformat": 4,
 "nbformat_minor": 4
}
